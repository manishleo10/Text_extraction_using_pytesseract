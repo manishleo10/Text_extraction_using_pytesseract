{
 "cells": [
  {
   "cell_type": "markdown",
   "id": "fb0de369",
   "metadata": {},
   "source": [
    "## Below is a tkinter program to extract text from a given pdf"
   ]
  },
  {
   "cell_type": "markdown",
   "id": "be72c83f",
   "metadata": {},
   "source": [
    "### For conversion, run the below cell and provide it with the location of pdf. An output txt file will generate with the textual data found inside that pdf."
   ]
  },
  {
   "cell_type": "code",
   "execution_count": 1,
   "id": "a146093f",
   "metadata": {},
   "outputs": [
    {
     "name": "stderr",
     "output_type": "stream",
     "text": [
      "Exception in Tkinter callback\n",
      "Traceback (most recent call last):\n",
      "  File \"C:\\software\\Anaconda\\lib\\tkinter\\__init__.py\", line 1892, in __call__\n",
      "    return self.func(*args)\n",
      "  File \"C:\\Users\\manis\\AppData\\Local\\Temp/ipykernel_796/3116551630.py\", line 17, in openfile\n",
      "    pdf_file=os.path.abspath(file.name)\n",
      "AttributeError: 'NoneType' object has no attribute 'name'\n"
     ]
    }
   ],
   "source": [
    "import tkinter as tk\n",
    "import tkinter.ttk as ttk\n",
    "from tkinter.filedialog import askopenfile\n",
    "from tkinter.messagebox import showinfo\n",
    "import pathlib\n",
    "from PIL import Image\n",
    "import pytesseract\n",
    "import sys\n",
    "from pdf2image import convert_from_path\n",
    "import os\n",
    "\n",
    "window=tk.Tk()\n",
    "window.title(\"PDF to text converter\")\n",
    "\n",
    "def openfile():\n",
    "    file=askopenfile(filetypes=[('PDF Files','*.pdf')])\n",
    "    pdf_file=os.path.abspath(file.name)\n",
    "\n",
    "    pages = convert_from_path(pdf_file, 500)\n",
    "\n",
    "# Counter to store images of each page of PDF to image\n",
    "    image_counter = 1\n",
    "\n",
    "# Iterate through all the pages stored above\n",
    "    for page in pages:\n",
    "\n",
    "        filename = \"page_\"+str(image_counter)+\".jpg\"\n",
    "        page.save(filename, 'JPEG')\n",
    "\n",
    "        image_counter = image_counter + 1\n",
    "\n",
    "    filelimit = image_counter-1\n",
    "\n",
    "# Creating a text file to write the output\n",
    "    outfile = \"out_text.txt\"\n",
    "\n",
    "    f = open(outfile, \"a\")\n",
    "\n",
    "    for i in range(1, filelimit + 1):\n",
    "\n",
    "        filename = \"page_\"+str(i)+\".jpg\"\n",
    "\n",
    "# Recognize the text as string in image using pytesserct\n",
    "        text = str(((pytesseract.image_to_string(Image.open(filename)))))\n",
    "\n",
    "        text = text.replace('-\\n', '')\n",
    "\n",
    "        f.write(text)\n",
    "\n",
    "    f.close()\n",
    "\n",
    "    \n",
    "    \n",
    "    showinfo(\"Done\",\"Successfully Converted\")\n",
    "    \n",
    "label=tk.Label(window,text=\"choose file: \")\n",
    "label.grid(row=0,column=0,padx=5,pady=5)\n",
    "\n",
    "button=ttk.Button(window,text=\"Select\",width=30,command=openfile)\n",
    "button.grid(row=0,column=1,padx=5,pady=5)\n",
    "\n",
    "window.mainloop()"
   ]
  },
  {
   "cell_type": "code",
   "execution_count": null,
   "id": "2bb05055",
   "metadata": {},
   "outputs": [],
   "source": []
  }
 ],
 "metadata": {
  "kernelspec": {
   "display_name": "Python 3 (ipykernel)",
   "language": "python",
   "name": "python3"
  },
  "language_info": {
   "codemirror_mode": {
    "name": "ipython",
    "version": 3
   },
   "file_extension": ".py",
   "mimetype": "text/x-python",
   "name": "python",
   "nbconvert_exporter": "python",
   "pygments_lexer": "ipython3",
   "version": "3.8.12"
  }
 },
 "nbformat": 4,
 "nbformat_minor": 5
}
